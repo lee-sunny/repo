{
 "cells": [
  {
   "cell_type": "markdown",
   "metadata": {},
   "source": [
    "# IS362 Fall 2019 Final Project - Koon Tse\n",
    "\n",
    "## SAT Statistics for 2012 school year from NYC Open Data\n",
    "\n",
    "### (https://data.cityofnewyork.us/Education/2012-SAT-Results/f9bf-2cp4)\n",
    "\n"
   ]
  },
  {
   "cell_type": "markdown",
   "metadata": {},
   "source": [
    "### Final Project Task:\n",
    "\n",
    "* Download the 2012 SAT Results from the following location:  https://data.cityofnewyork.us/api/views/f9bf-2cp4/rows.csv?accessType=DOWNLOAD\n",
    "\n",
    "* Analyze the data set to ensure the dataset is in a consistent format\n",
    "\n",
    "* In my data analytic stage, I noticed that the DBN (District, Borough, and Borough Number) is combined into a single field. I separate that field into 3 separate field on the data set.\n",
    "\n",
    "* Import the required modules\n",
    "\n",
    "* Read the data set into dataframe\n",
    "\n",
    "* Validate the data\n",
    "\n",
    "* Do some data analysis with querys and charts\n",
    "\n",
    "* Draw a conclusion based on analysis."
   ]
  },
  {
   "cell_type": "markdown",
   "metadata": {},
   "source": [
    "##### Loading CSV file to read in Pandas DataFrame:"
   ]
  },
  {
   "cell_type": "code",
   "execution_count": 88,
   "metadata": {},
   "outputs": [],
   "source": [
    "import pandas as pd\n",
    "import matplotlib.pyplot as plt\n",
    "import numpy as np"
   ]
  },
  {
   "cell_type": "markdown",
   "metadata": {},
   "source": [
    "##### After importing the pandas module, reading the CSV file is done through .read_csv(): "
   ]
  },
  {
   "cell_type": "code",
   "execution_count": 112,
   "metadata": {},
   "outputs": [],
   "source": [
    "df_sat = pd.read_csv(r'C:\\Users\\Daddy\\Videos\\IS362_Final_Project_TseKoon\\2012_SAT_Results_IS362_Tse.csv')"
   ]
  },
  {
   "cell_type": "markdown",
   "metadata": {},
   "source": [
    "##### Inspecting the datatype of the data that was read into the dataframe"
   ]
  },
  {
   "cell_type": "code",
   "execution_count": 115,
   "metadata": {},
   "outputs": [
    {
     "data": {
      "text/plain": [
       "DBN                      object\n",
       "District                  int64\n",
       "Borough_Code             object\n",
       "Borough                  object\n",
       "Borough_Number            int64\n",
       "School_Name              object\n",
       "Num_SAT_Test_Takers       int64\n",
       "SAT_Reading_Avg_Score     int64\n",
       "SAT_Math_Avg_Score        int64\n",
       "SAT_Writing_Avg_Score     int64\n",
       "dtype: object"
      ]
     },
     "execution_count": 115,
     "metadata": {},
     "output_type": "execute_result"
    }
   ],
   "source": [
    "df_sat_dtype_check = df_sat.dtypes\n",
    "df_sat_dtype_check"
   ]
  },
  {
   "cell_type": "markdown",
   "metadata": {},
   "source": [
    "##### Using head() to display the first 5 rows of the data: "
   ]
  },
  {
   "cell_type": "code",
   "execution_count": 197,
   "metadata": {},
   "outputs": [
    {
     "data": {
      "text/html": [
       "<div>\n",
       "<style scoped>\n",
       "    .dataframe tbody tr th:only-of-type {\n",
       "        vertical-align: middle;\n",
       "    }\n",
       "\n",
       "    .dataframe tbody tr th {\n",
       "        vertical-align: top;\n",
       "    }\n",
       "\n",
       "    .dataframe thead th {\n",
       "        text-align: right;\n",
       "    }\n",
       "</style>\n",
       "<table border=\"1\" class=\"dataframe\">\n",
       "  <thead>\n",
       "    <tr style=\"text-align: right;\">\n",
       "      <th></th>\n",
       "      <th>DBN</th>\n",
       "      <th>District</th>\n",
       "      <th>Borough_Code</th>\n",
       "      <th>Borough</th>\n",
       "      <th>Borough_Number</th>\n",
       "      <th>School_Name</th>\n",
       "      <th>Num_SAT_Test_Takers</th>\n",
       "      <th>SAT_Reading_Avg_Score</th>\n",
       "      <th>SAT_Math_Avg_Score</th>\n",
       "      <th>SAT_Writing_Avg_Score</th>\n",
       "    </tr>\n",
       "  </thead>\n",
       "  <tbody>\n",
       "    <tr>\n",
       "      <th>0</th>\n",
       "      <td>17K489</td>\n",
       "      <td>17</td>\n",
       "      <td>K</td>\n",
       "      <td>Brooklyn</td>\n",
       "      <td>489</td>\n",
       "      <td>W.E.B. DUBOIS ACADEMIC HIGH SCHOOL</td>\n",
       "      <td>7</td>\n",
       "      <td>394</td>\n",
       "      <td>364</td>\n",
       "      <td>334</td>\n",
       "    </tr>\n",
       "    <tr>\n",
       "      <th>1</th>\n",
       "      <td>18K635</td>\n",
       "      <td>18</td>\n",
       "      <td>K</td>\n",
       "      <td>Brooklyn</td>\n",
       "      <td>635</td>\n",
       "      <td>OLYMPUS ACADEMY</td>\n",
       "      <td>7</td>\n",
       "      <td>400</td>\n",
       "      <td>370</td>\n",
       "      <td>370</td>\n",
       "    </tr>\n",
       "    <tr>\n",
       "      <th>2</th>\n",
       "      <td>23K646</td>\n",
       "      <td>23</td>\n",
       "      <td>K</td>\n",
       "      <td>Brooklyn</td>\n",
       "      <td>646</td>\n",
       "      <td>ASPIRATIONS DIPLOMA PLUS HIGH SCHOOL</td>\n",
       "      <td>7</td>\n",
       "      <td>311</td>\n",
       "      <td>371</td>\n",
       "      <td>311</td>\n",
       "    </tr>\n",
       "    <tr>\n",
       "      <th>3</th>\n",
       "      <td>13K553</td>\n",
       "      <td>13</td>\n",
       "      <td>K</td>\n",
       "      <td>Brooklyn</td>\n",
       "      <td>553</td>\n",
       "      <td>BROOKLYN ACADEMY HIGH SCHOOL</td>\n",
       "      <td>8</td>\n",
       "      <td>435</td>\n",
       "      <td>383</td>\n",
       "      <td>379</td>\n",
       "    </tr>\n",
       "    <tr>\n",
       "      <th>4</th>\n",
       "      <td>15K698</td>\n",
       "      <td>15</td>\n",
       "      <td>K</td>\n",
       "      <td>Brooklyn</td>\n",
       "      <td>698</td>\n",
       "      <td>SOUTH BROOKLYN COMMUNITY HIGH SCHOOL</td>\n",
       "      <td>8</td>\n",
       "      <td>430</td>\n",
       "      <td>416</td>\n",
       "      <td>425</td>\n",
       "    </tr>\n",
       "  </tbody>\n",
       "</table>\n",
       "</div>"
      ],
      "text/plain": [
       "      DBN  District Borough_Code   Borough  Borough_Number  \\\n",
       "0  17K489        17            K  Brooklyn             489   \n",
       "1  18K635        18            K  Brooklyn             635   \n",
       "2  23K646        23            K  Brooklyn             646   \n",
       "3  13K553        13            K  Brooklyn             553   \n",
       "4  15K698        15            K  Brooklyn             698   \n",
       "\n",
       "                            School_Name  Num_SAT_Test_Takers  \\\n",
       "0    W.E.B. DUBOIS ACADEMIC HIGH SCHOOL                    7   \n",
       "1                       OLYMPUS ACADEMY                    7   \n",
       "2  ASPIRATIONS DIPLOMA PLUS HIGH SCHOOL                    7   \n",
       "3          BROOKLYN ACADEMY HIGH SCHOOL                    8   \n",
       "4  SOUTH BROOKLYN COMMUNITY HIGH SCHOOL                    8   \n",
       "\n",
       "   SAT_Reading_Avg_Score  SAT_Math_Avg_Score  SAT_Writing_Avg_Score  \n",
       "0                    394                 364                    334  \n",
       "1                    400                 370                    370  \n",
       "2                    311                 371                    311  \n",
       "3                    435                 383                    379  \n",
       "4                    430                 416                    425  "
      ]
     },
     "execution_count": 197,
     "metadata": {},
     "output_type": "execute_result"
    }
   ],
   "source": [
    "df_sat.head(5)"
   ]
  },
  {
   "cell_type": "markdown",
   "metadata": {},
   "source": [
    "##### Counting each column to ensure all rows have data populated for consistency"
   ]
  },
  {
   "cell_type": "code",
   "execution_count": 118,
   "metadata": {
    "scrolled": true
   },
   "outputs": [
    {
     "data": {
      "text/plain": [
       "DBN                      478\n",
       "District                 478\n",
       "Borough_Code             478\n",
       "Borough                  478\n",
       "Borough_Number           478\n",
       "School_Name              478\n",
       "Num_SAT_Test_Takers      478\n",
       "SAT_Reading_Avg_Score    478\n",
       "SAT_Math_Avg_Score       478\n",
       "SAT_Writing_Avg_Score    478\n",
       "dtype: int64"
      ]
     },
     "execution_count": 118,
     "metadata": {},
     "output_type": "execute_result"
    }
   ],
   "source": [
    "df_sat_count = df_sat.count()\n",
    "df_sat_count"
   ]
  },
  {
   "cell_type": "markdown",
   "metadata": {},
   "source": [
    "##### Lets count how many students are taking the SAT Test in 2012.  \n",
    "##### Based on the below query, there are a total of 478 schools and 46445 students that took the SAT in 2012."
   ]
  },
  {
   "cell_type": "code",
   "execution_count": 213,
   "metadata": {
    "scrolled": true
   },
   "outputs": [
    {
     "data": {
      "text/plain": [
       "478"
      ]
     },
     "execution_count": 213,
     "metadata": {},
     "output_type": "execute_result"
    }
   ],
   "source": [
    "school = df_sat.School_Name.count()\n",
    "school"
   ]
  },
  {
   "cell_type": "code",
   "execution_count": 212,
   "metadata": {},
   "outputs": [
    {
     "data": {
      "text/plain": [
       "46445"
      ]
     },
     "execution_count": 212,
     "metadata": {},
     "output_type": "execute_result"
    }
   ],
   "source": [
    "df_sat.Num_SAT_Test_Takers.sum()"
   ]
  },
  {
   "cell_type": "markdown",
   "metadata": {},
   "source": [
    "#### Lets count how many school was taking the SAT from each borough.\n",
    "##### It seems that Brooklyn have the highest number of schools taking the SAT in 2012 with 138 schools"
   ]
  },
  {
   "cell_type": "code",
   "execution_count": 158,
   "metadata": {},
   "outputs": [
    {
     "data": {
      "text/plain": [
       "Borough\n",
       "Bronx            128\n",
       "Brooklyn         138\n",
       "Manhattan        121\n",
       "Queens            78\n",
       "Staten_Island     13\n",
       "Name: DBN, dtype: int64"
      ]
     },
     "execution_count": 158,
     "metadata": {},
     "output_type": "execute_result"
    }
   ],
   "source": [
    "Schools_by_Borough = df_sat.groupby('Borough').DBN.count()\n",
    "Schools_by_Borough"
   ]
  },
  {
   "cell_type": "code",
   "execution_count": 203,
   "metadata": {},
   "outputs": [
    {
     "data": {
      "text/plain": [
       "Text(0,0.5,'values')"
      ]
     },
     "execution_count": 203,
     "metadata": {},
     "output_type": "execute_result"
    },
    {
     "data": {
      "image/png": "[encoded data removed]",
      "text/plain": [
       "<Figure size 432x288 with 1 Axes>"
      ]
     },
     "metadata": {},
     "output_type": "display_data"
    }
   ],
   "source": [
    "Schools_by_Borough.plot.bar()\n",
    "plt.title('Number of Schools by Borough')\n",
    "plt.xlabel('Borough')\n",
    "plt.ylabel('values')"
   ]
  },
  {
   "cell_type": "markdown",
   "metadata": {},
   "source": [
    "#### Lets get a total of students was taking the SAT from each borough.\n",
    "##### It seems that Brooklyn have the highest number of students taking the SAT in 2012 with 13169 students"
   ]
  },
  {
   "cell_type": "code",
   "execution_count": 156,
   "metadata": {},
   "outputs": [
    {
     "data": {
      "text/plain": [
       "Borough\n",
       "Bronx             7620\n",
       "Brooklyn         13169\n",
       "Manhattan        10312\n",
       "Queens           12319\n",
       "Staten_Island     3025\n",
       "Name: Num_SAT_Test_Takers, dtype: int64"
      ]
     },
     "execution_count": 156,
     "metadata": {},
     "output_type": "execute_result"
    }
   ],
   "source": [
    "Test_Taker_by_Borough = df_sat.groupby('Borough').Num_SAT_Test_Takers.sum()\n",
    "Test_Taker_by_Borough"
   ]
  },
  {
   "cell_type": "code",
   "execution_count": 204,
   "metadata": {},
   "outputs": [
    {
     "data": {
      "text/plain": [
       "Text(0,0.5,'values')"
      ]
     },
     "execution_count": 204,
     "metadata": {},
     "output_type": "execute_result"
    },
    {
     "data": {
      "image/png": "[encoded data removed]",
      "text/plain": [
       "<Figure size 432x288 with 1 Axes>"
      ]
     },
     "metadata": {},
     "output_type": "display_data"
    }
   ],
   "source": [
    "Test_Taker_by_Borough.plot.bar()\n",
    "plt.title('Number of Students by Borough')\n",
    "plt.xlabel('Borough')\n",
    "plt.ylabel('values')"
   ]
  },
  {
   "cell_type": "markdown",
   "metadata": {},
   "source": [
    "##### Displaying the highest number for Task Takers from each borough\n",
    "##### The borough with a school that has the highest number of test taker is Brooklyn with 1277"
   ]
  },
  {
   "cell_type": "code",
   "execution_count": 160,
   "metadata": {},
   "outputs": [
    {
     "data": {
      "text/plain": [
       "Borough\n",
       "Bronx             731\n",
       "Brooklyn         1277\n",
       "Manhattan         832\n",
       "Queens            934\n",
       "Staten_Island     807\n",
       "Name: Num_SAT_Test_Takers, dtype: int64"
      ]
     },
     "execution_count": 160,
     "metadata": {},
     "output_type": "execute_result"
    }
   ],
   "source": [
    "Borough_Highest_Taker = df_sat.groupby('Borough').Num_SAT_Test_Takers.max()\n",
    "Borough_Highest_Taker"
   ]
  },
  {
   "cell_type": "code",
   "execution_count": 206,
   "metadata": {},
   "outputs": [
    {
     "data": {
      "text/plain": [
       "Text(0,0.5,'values')"
      ]
     },
     "execution_count": 206,
     "metadata": {},
     "output_type": "execute_result"
    },
    {
     "data": {
      "image/png": "[encoded data removed]",
      "text/plain": [
       "<Figure size 432x288 with 1 Axes>"
      ]
     },
     "metadata": {},
     "output_type": "display_data"
    }
   ],
   "source": [
    "Borough_Highest_Taker.plot.bar()\n",
    "plt.title('Highest number of task takers in a school by Borough')\n",
    "plt.xlabel('Borough')\n",
    "plt.ylabel('values')"
   ]
  },
  {
   "cell_type": "markdown",
   "metadata": {},
   "source": [
    "##### Displaying the highest Reading average for each borough\n",
    "##### The Borough that has the highest reading school average is Manhattan with 679."
   ]
  },
  {
   "cell_type": "code",
   "execution_count": 184,
   "metadata": {},
   "outputs": [
    {
     "data": {
      "text/plain": [
       "Borough\n",
       "Bronx            636\n",
       "Brooklyn         587\n",
       "Manhattan        679\n",
       "Queens           621\n",
       "Staten_Island    635\n",
       "Name: SAT_Reading_Avg_Score, dtype: int64"
      ]
     },
     "execution_count": 184,
     "metadata": {},
     "output_type": "execute_result"
    }
   ],
   "source": [
    "Borough_Highest_Reading_Avg = df_sat.groupby('Borough').SAT_Reading_Avg_Score.max()\n",
    "Borough_Highest_Reading_Avg"
   ]
  },
  {
   "cell_type": "code",
   "execution_count": 207,
   "metadata": {},
   "outputs": [
    {
     "data": {
      "text/plain": [
       "Text(0,0.5,'values')"
      ]
     },
     "execution_count": 207,
     "metadata": {},
     "output_type": "execute_result"
    },
    {
     "data": {
      "image/png": "[encoded data removed]",
      "text/plain": [
       "<Figure size 432x288 with 1 Axes>"
      ]
     },
     "metadata": {},
     "output_type": "display_data"
    }
   ],
   "source": [
    "Borough_Highest_Reading_Avg.plot.bar()\n",
    "plt.title('Highest Reading Average Score in a school by Borough')\n",
    "plt.xlabel('Borough')\n",
    "plt.ylabel('values')"
   ]
  },
  {
   "cell_type": "markdown",
   "metadata": {},
   "source": [
    "##### Displaying the highest Math average for each borough\n",
    "##### The Borough that has the highest Math school average is Manhattan with 735."
   ]
  },
  {
   "cell_type": "code",
   "execution_count": 198,
   "metadata": {},
   "outputs": [
    {
     "data": {
      "text/plain": [
       "Borough\n",
       "Bronx            688\n",
       "Brooklyn         659\n",
       "Manhattan        735\n",
       "Queens           660\n",
       "Staten_Island    682\n",
       "Name: SAT_Math_Avg_Score, dtype: int64"
      ]
     },
     "execution_count": 198,
     "metadata": {},
     "output_type": "execute_result"
    }
   ],
   "source": [
    "Borough_Highest_Math_Avg = df_sat.groupby('Borough').SAT_Math_Avg_Score.max()\n",
    "Borough_Highest_Math_Avg"
   ]
  },
  {
   "cell_type": "code",
   "execution_count": 208,
   "metadata": {},
   "outputs": [
    {
     "data": {
      "text/plain": [
       "Text(0,0.5,'values')"
      ]
     },
     "execution_count": 208,
     "metadata": {},
     "output_type": "execute_result"
    },
    {
     "data": {
      "image/png": "[encoded data removed]",
      "text/plain": [
       "<Figure size 432x288 with 1 Axes>"
      ]
     },
     "metadata": {},
     "output_type": "display_data"
    }
   ],
   "source": [
    "Borough_Highest_Math_Avg.plot.bar()\n",
    "plt.title('Highest Math Average Score in a school by Borough')\n",
    "plt.xlabel('Borough')\n",
    "plt.ylabel('values')"
   ]
  },
  {
   "cell_type": "markdown",
   "metadata": {},
   "source": [
    "##### Displaying the highest Writing average for each borough\n",
    "##### The Borough that has the highest Writing school average is Manhattan with 735."
   ]
  },
  {
   "cell_type": "code",
   "execution_count": 190,
   "metadata": {},
   "outputs": [
    {
     "data": {
      "text/plain": [
       "Borough\n",
       "Bronx            649\n",
       "Brooklyn         587\n",
       "Manhattan        682\n",
       "Queens           638\n",
       "Staten_Island    636\n",
       "Name: SAT_Writing_Avg_Score, dtype: int64"
      ]
     },
     "execution_count": 190,
     "metadata": {},
     "output_type": "execute_result"
    }
   ],
   "source": [
    "Borough_Highest_Writing_Avg = df_sat.groupby('Borough').SAT_Writing_Avg_Score.max()\n",
    "Borough_Highest_Writing_Avg"
   ]
  },
  {
   "cell_type": "code",
   "execution_count": 209,
   "metadata": {},
   "outputs": [
    {
     "data": {
      "text/plain": [
       "Text(0,0.5,'values')"
      ]
     },
     "execution_count": 209,
     "metadata": {},
     "output_type": "execute_result"
    },
    {
     "data": {
      "image/png": "[encoded data removed]",
      "text/plain": [
       "<Figure size 432x288 with 1 Axes>"
      ]
     },
     "metadata": {},
     "output_type": "display_data"
    }
   ],
   "source": [
    "Borough_Highest_Writing_Avg.plot.bar()\n",
    "plt.title('Highest Writing Average Score in a school by Borough')\n",
    "plt.xlabel('Borough')\n",
    "plt.ylabel('values')"
   ]
  },
  {
   "cell_type": "markdown",
   "metadata": {},
   "source": [
    "### Conclusion:"
   ]
  },
  {
   "cell_type": "markdown",
   "metadata": {},
   "source": [
    "Based on my analysis of the 2012 New York SAT taker.  The borough that has the highest number of schools and highest numbers of SAT Takers is in Brooklyn with 138 Schools and 13169 Students that took the SAT.  However, in reviewing the highest avg school for each of the 3 tested categories of Reading, Math and Writing, Manhattan schools has the highest average eventhough Manhattan have 121 schools and 10312 students.   We can easily conclude that higher number of schools and sat takers does not guarantee they can provide an higher SAT score average."
   ]
  }
 ],
 "metadata": {
  "kernelspec": {
   "display_name": "Python 2",
   "language": "python",
   "name": "python2"
  },
  "language_info": {
   "codemirror_mode": {
    "name": "ipython",
    "version": 2
   },
   "file_extension": ".py",
   "mimetype": "text/x-python",
   "name": "python",
   "nbconvert_exporter": "python",
   "pygments_lexer": "ipython2",
   "version": "2.7.15"
  }
 },
 "nbformat": 4,
 "nbformat_minor": 2
}
