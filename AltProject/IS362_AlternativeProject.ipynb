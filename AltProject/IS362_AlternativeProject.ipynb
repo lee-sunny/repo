{
 "cells": [
  {
   "cell_type": "markdown",
   "metadata": {},
   "source": [
    "# IS362 Fall 2019 Alternate Project - Koon Tse"
   ]
  },
  {
   "cell_type": "markdown",
   "metadata": {},
   "source": [
    "#### This is an alternative project for students that missed turning in one of the earlier projects.  You may also use this as a substitute for two assignments.\n",
    "\n",
    "#### As before, please deliver your code in GitHub, with submission links to your GitHub repository and your published Jupyter Notebook file.  You may work in a small group on this project.\n",
    "\n",
    "#### Here is a 3 minute video on reading chess tournament cross-tables that you may find helpful:\n",
    "\n",
    "#### https://www.youtube.com/watch?v=T5PXYl2FEUo\n",
    "\n",
    "Project - Read Chess Tournament Cross Table\n",
    "\n",
    "In this project, you’re given a text file with chess tournament results where the information has some structure. Your\n",
    "job is to create a Jupyter Notebook that generates a .CSV file with the following information for all of the chess players:\n",
    "\n",
    "Player’s Name, Player’s State, Total Number of Points, Player’s Pre-Rating, and Average Pre Tournament Chess Rating of\n",
    "Opponents\n",
    "For the first player, the information would be:\n",
    "\n",
    "Gary Hua, ON, 6.0, 1794, 1605\n",
    "\n",
    "1605 was calculated by using the pre-tournament opponents’ ratings of 1436, 1563, 1600, 1610, 1649, 1663, 1716, and\n",
    "dividing by the total number of games played.\n",
    "\n",
    "If you have questions about the meaning of the data or the results, first watch the provided video. If you still have\n",
    "questions, please post them on the discussion forum. Data science, like chess, is a game of back and forth…\n",
    "\n",
    "The chess rating system (invented by a Minnesota statistician named Arpad Elo) has been used in many other contexts,\n",
    "including assessing relative strength of employment candidates by human resource departments.\n",
    "\n",
    "You may substitute another text file (or set of text files, or data scraped from web pages) of similar or greater\n",
    "complexity, and create your own assignment and solution. You may work in a small team. All of your code should be in\n",
    "a Jupyter Notebook (and published to your GitHub repository); with your data accessible for the person running the\n",
    "script"
   ]
  },
  {
   "cell_type": "markdown",
   "metadata": {},
   "source": [
    "### Import pandas module"
   ]
  },
  {
   "cell_type": "code",
   "execution_count": 1,
   "metadata": {},
   "outputs": [],
   "source": [
    "import pandas as pd"
   ]
  },
  {
   "cell_type": "markdown",
   "metadata": {},
   "source": [
    "### Read the Chess_Tournament_Cross_Table.csv data into dataframe"
   ]
  },
  {
   "cell_type": "code",
   "execution_count": 2,
   "metadata": {},
   "outputs": [],
   "source": [
    "chesstour = pd.DataFrame(pd.read_csv('C:\\Users\\Daddy\\Videos\\week10_alt\\Chess_Tournament_Cross_Table.csv'))"
   ]
  },
  {
   "cell_type": "markdown",
   "metadata": {},
   "source": [
    "### Display the data"
   ]
  },
  {
   "cell_type": "code",
   "execution_count": 3,
   "metadata": {},
   "outputs": [
    {
     "data": {
      "text/html": [
       "<div>\n",
       "<style scoped>\n",
       "    .dataframe tbody tr th:only-of-type {\n",
       "        vertical-align: middle;\n",
       "    }\n",
       "\n",
       "    .dataframe tbody tr th {\n",
       "        vertical-align: top;\n",
       "    }\n",
       "\n",
       "    .dataframe thead th {\n",
       "        text-align: right;\n",
       "    }\n",
       "</style>\n",
       "<table border=\"1\" class=\"dataframe\">\n",
       "  <thead>\n",
       "    <tr style=\"text-align: right;\">\n",
       "      <th></th>\n",
       "      <th>Pair</th>\n",
       "      <th>Num</th>\n",
       "      <th>Player-Name</th>\n",
       "      <th>User-Id</th>\n",
       "      <th>Rtg</th>\n",
       "      <th>Pre-Post</th>\n",
       "      <th>Total-Pts</th>\n",
       "      <th>Round-1</th>\n",
       "      <th>Round-2</th>\n",
       "      <th>Round-3</th>\n",
       "      <th>Round-4</th>\n",
       "      <th>Round-5</th>\n",
       "      <th>Round-6</th>\n",
       "      <th>Round-7</th>\n",
       "    </tr>\n",
       "  </thead>\n",
       "  <tbody>\n",
       "    <tr>\n",
       "      <th>0</th>\n",
       "      <td>1</td>\n",
       "      <td>ON</td>\n",
       "      <td>GARY HUA</td>\n",
       "      <td>15445895</td>\n",
       "      <td>1794</td>\n",
       "      <td>1605</td>\n",
       "      <td>6.0</td>\n",
       "      <td>W2</td>\n",
       "      <td>W3</td>\n",
       "      <td>W4</td>\n",
       "      <td>W5</td>\n",
       "      <td>W6</td>\n",
       "      <td>L7</td>\n",
       "      <td>L8</td>\n",
       "    </tr>\n",
       "    <tr>\n",
       "      <th>1</th>\n",
       "      <td>2</td>\n",
       "      <td>MI</td>\n",
       "      <td>DAKSHESH DAURI</td>\n",
       "      <td>14598900</td>\n",
       "      <td>1553</td>\n",
       "      <td>1436</td>\n",
       "      <td>6.0</td>\n",
       "      <td>L1</td>\n",
       "      <td>W4</td>\n",
       "      <td>W5</td>\n",
       "      <td>W6</td>\n",
       "      <td>W7</td>\n",
       "      <td>L8</td>\n",
       "      <td>L3</td>\n",
       "    </tr>\n",
       "    <tr>\n",
       "      <th>2</th>\n",
       "      <td>3</td>\n",
       "      <td>MI</td>\n",
       "      <td>ADITYA BAJAJ</td>\n",
       "      <td>14959604</td>\n",
       "      <td>1384</td>\n",
       "      <td>1563</td>\n",
       "      <td>6.0</td>\n",
       "      <td>W4</td>\n",
       "      <td>L1</td>\n",
       "      <td>W6</td>\n",
       "      <td>W7</td>\n",
       "      <td>W8</td>\n",
       "      <td>D5</td>\n",
       "      <td>L2</td>\n",
       "    </tr>\n",
       "    <tr>\n",
       "      <th>3</th>\n",
       "      <td>4</td>\n",
       "      <td>MI</td>\n",
       "      <td>PATRICK H</td>\n",
       "      <td>12616049</td>\n",
       "      <td>1716</td>\n",
       "      <td>1600</td>\n",
       "      <td>5.5</td>\n",
       "      <td>L3</td>\n",
       "      <td>L2</td>\n",
       "      <td>L1</td>\n",
       "      <td>W8</td>\n",
       "      <td>W5</td>\n",
       "      <td>W6</td>\n",
       "      <td>W7</td>\n",
       "    </tr>\n",
       "    <tr>\n",
       "      <th>4</th>\n",
       "      <td>5</td>\n",
       "      <td>MI</td>\n",
       "      <td>HANSHI ZUO</td>\n",
       "      <td>14601533</td>\n",
       "      <td>1655</td>\n",
       "      <td>1610</td>\n",
       "      <td>5.5</td>\n",
       "      <td>W8</td>\n",
       "      <td>W7</td>\n",
       "      <td>L2</td>\n",
       "      <td>L1</td>\n",
       "      <td>L4</td>\n",
       "      <td>W3</td>\n",
       "      <td>W6</td>\n",
       "    </tr>\n",
       "    <tr>\n",
       "      <th>5</th>\n",
       "      <td>6</td>\n",
       "      <td>MI</td>\n",
       "      <td>HANSEN SONG</td>\n",
       "      <td>15055204</td>\n",
       "      <td>1686</td>\n",
       "      <td>1649</td>\n",
       "      <td>5.0</td>\n",
       "      <td>W7</td>\n",
       "      <td>L8</td>\n",
       "      <td>L3</td>\n",
       "      <td>L2</td>\n",
       "      <td>L1</td>\n",
       "      <td>L4</td>\n",
       "      <td>L5</td>\n",
       "    </tr>\n",
       "    <tr>\n",
       "      <th>6</th>\n",
       "      <td>7</td>\n",
       "      <td>MI</td>\n",
       "      <td>GARY DEE SWATHELL</td>\n",
       "      <td>11146376</td>\n",
       "      <td>1649</td>\n",
       "      <td>1663</td>\n",
       "      <td>5.0</td>\n",
       "      <td>L6</td>\n",
       "      <td>L5</td>\n",
       "      <td>W8</td>\n",
       "      <td>L3</td>\n",
       "      <td>L2</td>\n",
       "      <td>W1</td>\n",
       "      <td>L4</td>\n",
       "    </tr>\n",
       "    <tr>\n",
       "      <th>7</th>\n",
       "      <td>8</td>\n",
       "      <td>MI</td>\n",
       "      <td>STEFANO LEE</td>\n",
       "      <td>14954524</td>\n",
       "      <td>1411</td>\n",
       "      <td>1716</td>\n",
       "      <td>5.0</td>\n",
       "      <td>L5</td>\n",
       "      <td>W6</td>\n",
       "      <td>L7</td>\n",
       "      <td>L4</td>\n",
       "      <td>L3</td>\n",
       "      <td>W2</td>\n",
       "      <td>W1</td>\n",
       "    </tr>\n",
       "  </tbody>\n",
       "</table>\n",
       "</div>"
      ],
      "text/plain": [
       "   Pair Num        Player-Name   User-Id   Rtg  Pre-Post  Total-Pts Round-1  \\\n",
       "0     1  ON           GARY HUA  15445895  1794      1605        6.0      W2   \n",
       "1     2  MI     DAKSHESH DAURI  14598900  1553      1436        6.0      L1   \n",
       "2     3  MI       ADITYA BAJAJ  14959604  1384      1563        6.0      W4   \n",
       "3     4  MI          PATRICK H  12616049  1716      1600        5.5      L3   \n",
       "4     5  MI         HANSHI ZUO  14601533  1655      1610        5.5      W8   \n",
       "5     6  MI        HANSEN SONG  15055204  1686      1649        5.0      W7   \n",
       "6     7  MI  GARY DEE SWATHELL  11146376  1649      1663        5.0      L6   \n",
       "7     8  MI        STEFANO LEE  14954524  1411      1716        5.0      L5   \n",
       "\n",
       "  Round-2 Round-3 Round-4 Round-5 Round-6 Round-7  \n",
       "0      W3      W4      W5      W6      L7      L8  \n",
       "1      W4      W5      W6      W7      L8      L3  \n",
       "2      L1      W6      W7      W8      D5      L2  \n",
       "3      L2      L1      W8      W5      W6      W7  \n",
       "4      W7      L2      L1      L4      W3      W6  \n",
       "5      L8      L3      L2      L1      L4      L5  \n",
       "6      L5      W8      L3      L2      W1      L4  \n",
       "7      W6      L7      L4      L3      W2      W1  "
      ]
     },
     "execution_count": 3,
     "metadata": {},
     "output_type": "execute_result"
    }
   ],
   "source": [
    "chesstour"
   ]
  },
  {
   "cell_type": "markdown",
   "metadata": {},
   "source": [
    "### Calculate the avg number"
   ]
  },
  {
   "cell_type": "code",
   "execution_count": 4,
   "metadata": {},
   "outputs": [],
   "source": [
    "def avg_pre_tournament_rating():\n",
    "    sum = 0 \n",
    "    for chessavg in chesstour.loc[0][7:]:\n",
    "        sum+= chesstour['Pre-Post'].loc[int(chessavg[1])-1]\n",
    "    return int(sum/7)\n"
   ]
  },
  {
   "cell_type": "markdown",
   "metadata": {},
   "source": [
    "### Format output"
   ]
  },
  {
   "cell_type": "code",
   "execution_count": 7,
   "metadata": {},
   "outputs": [],
   "source": [
    "CHUSER = pd.DataFrame(columns=['Player Full Name', 'State Origin', 'Total Number of Points', 'Player Rating','Player Pre-Tournament Rating Average'])"
   ]
  },
  {
   "cell_type": "code",
   "execution_count": 8,
   "metadata": {},
   "outputs": [],
   "source": [
    "CHUSER.loc[1,'Player Full Name'] = chesstour['Player-Name'][0]\n",
    "CHUSER.loc[1,'State Origin'] = chesstour['Num'][0]\n",
    "CHUSER.loc[1,'Total Number of Points'] = chesstour['Total-Pts'][0]\n",
    "CHUSER.loc[1,'Player Rating'] = chesstour['Rtg'][0]\n",
    "CHUSER.loc[1,'Player Pre-Tournament Rating Average'] = avg_pre_tournament_rating()\n"
   ]
  },
  {
   "cell_type": "markdown",
   "metadata": {},
   "source": [
    "### Display output for 1st player"
   ]
  },
  {
   "cell_type": "code",
   "execution_count": 9,
   "metadata": {},
   "outputs": [
    {
     "data": {
      "text/html": [
       "<div>\n",
       "<style scoped>\n",
       "    .dataframe tbody tr th:only-of-type {\n",
       "        vertical-align: middle;\n",
       "    }\n",
       "\n",
       "    .dataframe tbody tr th {\n",
       "        vertical-align: top;\n",
       "    }\n",
       "\n",
       "    .dataframe thead th {\n",
       "        text-align: right;\n",
       "    }\n",
       "</style>\n",
       "<table border=\"1\" class=\"dataframe\">\n",
       "  <thead>\n",
       "    <tr style=\"text-align: right;\">\n",
       "      <th></th>\n",
       "      <th>Player Full Name</th>\n",
       "      <th>State Origin</th>\n",
       "      <th>Total Number of Points</th>\n",
       "      <th>Player Rating</th>\n",
       "      <th>Player Pre-Tournament Rating Average</th>\n",
       "    </tr>\n",
       "  </thead>\n",
       "  <tbody>\n",
       "    <tr>\n",
       "      <th>1</th>\n",
       "      <td>GARY HUA</td>\n",
       "      <td>ON</td>\n",
       "      <td>6</td>\n",
       "      <td>1794</td>\n",
       "      <td>1605</td>\n",
       "    </tr>\n",
       "  </tbody>\n",
       "</table>\n",
       "</div>"
      ],
      "text/plain": [
       "  Player Full Name State Origin Total Number of Points Player Rating  \\\n",
       "1         GARY HUA           ON                      6          1794   \n",
       "\n",
       "  Player Pre-Tournament Rating Average  \n",
       "1                                 1605  "
      ]
     },
     "execution_count": 9,
     "metadata": {},
     "output_type": "execute_result"
    }
   ],
   "source": [
    "CHUSER"
   ]
  },
  {
   "cell_type": "code",
   "execution_count": 10,
   "metadata": {},
   "outputs": [],
   "source": [
    "### Output to csv file"
   ]
  },
  {
   "cell_type": "code",
   "execution_count": 11,
   "metadata": {},
   "outputs": [],
   "source": [
    "#generate csv file\n",
    "CHUSER.to_csv(r'C:\\Users\\Daddy\\Videos\\week10_alt\\Chess_Tournament_Player.csv', index=None, header=True)\n"
   ]
  }
 ],
 "metadata": {
  "kernelspec": {
   "display_name": "Python 2",
   "language": "python",
   "name": "python2"
  },
  "language_info": {
   "codemirror_mode": {
    "name": "ipython",
    "version": 2
   },
   "file_extension": ".py",
   "mimetype": "text/x-python",
   "name": "python",
   "nbconvert_exporter": "python",
   "pygments_lexer": "ipython2",
   "version": "2.7.15"
  }
 },
 "nbformat": 4,
 "nbformat_minor": 2
}
