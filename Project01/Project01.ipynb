{
 "cells": [
  {
   "cell_type": "markdown",
   "metadata": {},
   "source": [
    "# IS362 - Project 1 - Koon Tse\n",
    "\n",
    "## Airline Arrival Delays"
   ]
  },
  {
   "cell_type": "markdown",
   "metadata": {},
   "source": [
    "#### Project Task:\n",
    "\n",
    "1. Create a .CSV file (or optionally, a MySQL database!) that all of the information in the table. You may change the structure  of the information as you like.\n",
    "2.  Read the information from you .CSV file into pandas, and perform analysis to compare the arrival delays for the two airlines \n",
    "3. Your code should be in a Jupyter (IPython) notebook (in GitHub), and should include narrative descriptions of your analysis and conclusions."
   ]
  },
  {
   "cell_type": "markdown",
   "metadata": {},
   "source": [
    "### Read info of csv file into panda by import panda module and utilizing the read_csv function"
   ]
  },
  {
   "cell_type": "code",
   "execution_count": 1,
   "metadata": {},
   "outputs": [],
   "source": [
    "#Import the panda module\n",
    "import pandas as pd"
   ]
  },
  {
   "cell_type": "code",
   "execution_count": 2,
   "metadata": {},
   "outputs": [],
   "source": [
    "#Reading the CSV file is with the panda dataframe with .read_csv() function\n",
    "airline_arrival_info = pd.read_csv(r'C:\\Users\\Daddy\\Videos\\IS362_Project1-master\\Project01.csv', index_col = 0)"
   ]
  },
  {
   "cell_type": "code",
   "execution_count": 3,
   "metadata": {},
   "outputs": [
    {
     "data": {
      "text/html": [
       "<div>\n",
       "<style scoped>\n",
       "    .dataframe tbody tr th:only-of-type {\n",
       "        vertical-align: middle;\n",
       "    }\n",
       "\n",
       "    .dataframe tbody tr th {\n",
       "        vertical-align: top;\n",
       "    }\n",
       "\n",
       "    .dataframe thead th {\n",
       "        text-align: right;\n",
       "    }\n",
       "</style>\n",
       "<table border=\"1\" class=\"dataframe\">\n",
       "  <thead>\n",
       "    <tr style=\"text-align: right;\">\n",
       "      <th></th>\n",
       "      <th>City</th>\n",
       "      <th>Alaska_On_Time</th>\n",
       "      <th>Alaska_Delayed</th>\n",
       "      <th>AMWest_On_Time</th>\n",
       "      <th>AMWest_Delayed</th>\n",
       "    </tr>\n",
       "  </thead>\n",
       "  <tbody>\n",
       "    <tr>\n",
       "      <th>0</th>\n",
       "      <td>Los Angeles</td>\n",
       "      <td>497</td>\n",
       "      <td>62</td>\n",
       "      <td>694</td>\n",
       "      <td>117</td>\n",
       "    </tr>\n",
       "    <tr>\n",
       "      <th>1</th>\n",
       "      <td>Phoenix</td>\n",
       "      <td>221</td>\n",
       "      <td>12</td>\n",
       "      <td>4840</td>\n",
       "      <td>415</td>\n",
       "    </tr>\n",
       "    <tr>\n",
       "      <th>2</th>\n",
       "      <td>San Diego</td>\n",
       "      <td>212</td>\n",
       "      <td>20</td>\n",
       "      <td>383</td>\n",
       "      <td>65</td>\n",
       "    </tr>\n",
       "    <tr>\n",
       "      <th>3</th>\n",
       "      <td>San Francisco</td>\n",
       "      <td>503</td>\n",
       "      <td>102</td>\n",
       "      <td>320</td>\n",
       "      <td>129</td>\n",
       "    </tr>\n",
       "    <tr>\n",
       "      <th>4</th>\n",
       "      <td>Seattle</td>\n",
       "      <td>1841</td>\n",
       "      <td>305</td>\n",
       "      <td>201</td>\n",
       "      <td>61</td>\n",
       "    </tr>\n",
       "  </tbody>\n",
       "</table>\n",
       "</div>"
      ],
      "text/plain": [
       "            City  Alaska_On_Time  Alaska_Delayed  AMWest_On_Time  \\\n",
       "0    Los Angeles             497              62             694   \n",
       "1        Phoenix             221              12            4840   \n",
       "2      San Diego             212              20             383   \n",
       "3  San Francisco             503             102             320   \n",
       "4        Seattle            1841             305             201   \n",
       "\n",
       "   AMWest_Delayed  \n",
       "0             117  \n",
       "1             415  \n",
       "2              65  \n",
       "3             129  \n",
       "4              61  "
      ]
     },
     "execution_count": 3,
     "metadata": {},
     "output_type": "execute_result"
    }
   ],
   "source": [
    "#Display the data of the airline_arrival_info\n",
    "airline_arrival_info"
   ]
  },
  {
   "cell_type": "markdown",
   "metadata": {},
   "source": [
    "### Lets calculate the arrival delay percentage for each of the airline to the respective city they will be arriving in.  The formula to calculate each airline arrival delay percentage will be based on the sum of arrivals in each city and than divided by the city's delay arrival."
   ]
  },
  {
   "cell_type": "code",
   "execution_count": 4,
   "metadata": {},
   "outputs": [
    {
     "data": {
      "text/plain": [
       "0    11.091234\n",
       "1     5.150215\n",
       "2     8.620690\n",
       "3    16.859504\n",
       "4    14.212488\n",
       "Name: Alaska_Percentages_Of_Delay, dtype: float64"
      ]
     },
     "execution_count": 4,
     "metadata": {},
     "output_type": "execute_result"
    }
   ],
   "source": [
    "#Alaska arrival delay percentage will be based on the sum of Alaska Arrivals in each city and than divided by the city's delay arrival.\n",
    "\n",
    "airline_arrival_info['Total_Alaska_Arrivals'] = airline_arrival_info['Alaska_On_Time'] + airline_arrival_info['Alaska_Delayed']\n",
    "\n",
    "airline_arrival_info['Alaska_Percentages_Of_Delay'] = (airline_arrival_info['Alaska_Delayed'] / airline_arrival_info['Total_Alaska_Arrivals']) * 100\n",
    "\n",
    "airline_arrival_info['Alaska_Percentages_Of_Delay']"
   ]
  },
  {
   "cell_type": "code",
   "execution_count": 5,
   "metadata": {},
   "outputs": [
    {
     "data": {
      "text/plain": [
       "0    14.426634\n",
       "1     7.897241\n",
       "2    14.508929\n",
       "3    28.730512\n",
       "4    23.282443\n",
       "Name: AMWest_Percentages_Of_Delay, dtype: float64"
      ]
     },
     "execution_count": 5,
     "metadata": {},
     "output_type": "execute_result"
    }
   ],
   "source": [
    "#AMWest arrival delay percentage will be based on the sum of AMWest Arrivals in each city and than divided by the city's delay arrival.\n",
    "airline_arrival_info['Total_AMWest_Arrivals'] = airline_arrival_info['AMWest_On_Time'] + airline_arrival_info['AMWest_Delayed']\n",
    "\n",
    "airline_arrival_info['AMWest_Percentages_Of_Delay'] = (airline_arrival_info['AMWest_Delayed'] / airline_arrival_info['Total_AMWest_Arrivals']) * 100\n",
    "\n",
    "airline_arrival_info['AMWest_Percentages_Of_Delay']"
   ]
  },
  {
   "cell_type": "code",
   "execution_count": 23,
   "metadata": {},
   "outputs": [
    {
     "data": {
      "text/html": [
       "<div>\n",
       "<style scoped>\n",
       "    .dataframe tbody tr th:only-of-type {\n",
       "        vertical-align: middle;\n",
       "    }\n",
       "\n",
       "    .dataframe tbody tr th {\n",
       "        vertical-align: top;\n",
       "    }\n",
       "\n",
       "    .dataframe thead th {\n",
       "        text-align: right;\n",
       "    }\n",
       "</style>\n",
       "<table border=\"1\" class=\"dataframe\">\n",
       "  <thead>\n",
       "    <tr style=\"text-align: right;\">\n",
       "      <th></th>\n",
       "      <th>City</th>\n",
       "      <th>Alaska_On_Time</th>\n",
       "      <th>Alaska_Delayed</th>\n",
       "      <th>AMWest_On_Time</th>\n",
       "      <th>AMWest_Delayed</th>\n",
       "      <th>TotalAlaskaArrivals</th>\n",
       "      <th>AlaskaPercentagesOfDelay</th>\n",
       "      <th>Total_Alaska_Arrivals</th>\n",
       "      <th>Alaska_Percentages_Of_Delay</th>\n",
       "      <th>Total_AMWest_Arrivals</th>\n",
       "      <th>AMWest_Percentages_Of_Delay</th>\n",
       "    </tr>\n",
       "  </thead>\n",
       "  <tbody>\n",
       "    <tr>\n",
       "      <th>0</th>\n",
       "      <td>Los Angeles</td>\n",
       "      <td>497</td>\n",
       "      <td>62</td>\n",
       "      <td>694</td>\n",
       "      <td>117</td>\n",
       "      <td>559</td>\n",
       "      <td>11.091234</td>\n",
       "      <td>559</td>\n",
       "      <td>11.091234</td>\n",
       "      <td>811</td>\n",
       "      <td>14.426634</td>\n",
       "    </tr>\n",
       "    <tr>\n",
       "      <th>1</th>\n",
       "      <td>Phoenix</td>\n",
       "      <td>221</td>\n",
       "      <td>12</td>\n",
       "      <td>4840</td>\n",
       "      <td>415</td>\n",
       "      <td>233</td>\n",
       "      <td>5.150215</td>\n",
       "      <td>233</td>\n",
       "      <td>5.150215</td>\n",
       "      <td>5255</td>\n",
       "      <td>7.897241</td>\n",
       "    </tr>\n",
       "    <tr>\n",
       "      <th>2</th>\n",
       "      <td>San Diego</td>\n",
       "      <td>212</td>\n",
       "      <td>20</td>\n",
       "      <td>383</td>\n",
       "      <td>65</td>\n",
       "      <td>232</td>\n",
       "      <td>8.620690</td>\n",
       "      <td>232</td>\n",
       "      <td>8.620690</td>\n",
       "      <td>448</td>\n",
       "      <td>14.508929</td>\n",
       "    </tr>\n",
       "    <tr>\n",
       "      <th>3</th>\n",
       "      <td>San Francisco</td>\n",
       "      <td>503</td>\n",
       "      <td>102</td>\n",
       "      <td>320</td>\n",
       "      <td>129</td>\n",
       "      <td>605</td>\n",
       "      <td>16.859504</td>\n",
       "      <td>605</td>\n",
       "      <td>16.859504</td>\n",
       "      <td>449</td>\n",
       "      <td>28.730512</td>\n",
       "    </tr>\n",
       "    <tr>\n",
       "      <th>4</th>\n",
       "      <td>Seattle</td>\n",
       "      <td>1841</td>\n",
       "      <td>305</td>\n",
       "      <td>201</td>\n",
       "      <td>61</td>\n",
       "      <td>2146</td>\n",
       "      <td>14.212488</td>\n",
       "      <td>2146</td>\n",
       "      <td>14.212488</td>\n",
       "      <td>262</td>\n",
       "      <td>23.282443</td>\n",
       "    </tr>\n",
       "  </tbody>\n",
       "</table>\n",
       "</div>"
      ],
      "text/plain": [
       "            City  Alaska_On_Time  Alaska_Delayed  AMWest_On_Time  \\\n",
       "0    Los Angeles             497              62             694   \n",
       "1        Phoenix             221              12            4840   \n",
       "2      San Diego             212              20             383   \n",
       "3  San Francisco             503             102             320   \n",
       "4        Seattle            1841             305             201   \n",
       "\n",
       "   AMWest_Delayed  TotalAlaskaArrivals  AlaskaPercentagesOfDelay  \\\n",
       "0             117                  559                 11.091234   \n",
       "1             415                  233                  5.150215   \n",
       "2              65                  232                  8.620690   \n",
       "3             129                  605                 16.859504   \n",
       "4              61                 2146                 14.212488   \n",
       "\n",
       "   Total_Alaska_Arrivals  Alaska_Percentages_Of_Delay  Total_AMWest_Arrivals  \\\n",
       "0                    559                    11.091234                    811   \n",
       "1                    233                     5.150215                   5255   \n",
       "2                    232                     8.620690                    448   \n",
       "3                    605                    16.859504                    449   \n",
       "4                   2146                    14.212488                    262   \n",
       "\n",
       "   AMWest_Percentages_Of_Delay  \n",
       "0                    14.426634  \n",
       "1                     7.897241  \n",
       "2                    14.508929  \n",
       "3                    28.730512  \n",
       "4                    23.282443  "
      ]
     },
     "execution_count": 23,
     "metadata": {},
     "output_type": "execute_result"
    }
   ],
   "source": [
    "#Displaying the table with the total arrivals and percentage information for each airline and arriving city\n",
    "airline_arrival_info"
   ]
  },
  {
   "cell_type": "markdown",
   "metadata": {},
   "source": [
    "### To provide summary of the 2 airlines and the delay percentage rounded to 2 decimal places."
   ]
  },
  {
   "cell_type": "code",
   "execution_count": 6,
   "metadata": {},
   "outputs": [
    {
     "data": {
      "text/html": [
       "<div>\n",
       "<style scoped>\n",
       "    .dataframe tbody tr th:only-of-type {\n",
       "        vertical-align: middle;\n",
       "    }\n",
       "\n",
       "    .dataframe tbody tr th {\n",
       "        vertical-align: top;\n",
       "    }\n",
       "\n",
       "    .dataframe thead th {\n",
       "        text-align: right;\n",
       "    }\n",
       "</style>\n",
       "<table border=\"1\" class=\"dataframe\">\n",
       "  <thead>\n",
       "    <tr style=\"text-align: right;\">\n",
       "      <th></th>\n",
       "      <th>City</th>\n",
       "      <th>Alaska_Percentages_Of_Delay</th>\n",
       "      <th>AMWest_Percentages_Of_Delay</th>\n",
       "    </tr>\n",
       "  </thead>\n",
       "  <tbody>\n",
       "    <tr>\n",
       "      <th>0</th>\n",
       "      <td>Los Angeles</td>\n",
       "      <td>11.09</td>\n",
       "      <td>14.43</td>\n",
       "    </tr>\n",
       "    <tr>\n",
       "      <th>1</th>\n",
       "      <td>Phoenix</td>\n",
       "      <td>5.15</td>\n",
       "      <td>7.90</td>\n",
       "    </tr>\n",
       "    <tr>\n",
       "      <th>2</th>\n",
       "      <td>San Diego</td>\n",
       "      <td>8.62</td>\n",
       "      <td>14.51</td>\n",
       "    </tr>\n",
       "    <tr>\n",
       "      <th>3</th>\n",
       "      <td>San Francisco</td>\n",
       "      <td>16.86</td>\n",
       "      <td>28.73</td>\n",
       "    </tr>\n",
       "    <tr>\n",
       "      <th>4</th>\n",
       "      <td>Seattle</td>\n",
       "      <td>14.21</td>\n",
       "      <td>23.28</td>\n",
       "    </tr>\n",
       "  </tbody>\n",
       "</table>\n",
       "</div>"
      ],
      "text/plain": [
       "            City  Alaska_Percentages_Of_Delay  AMWest_Percentages_Of_Delay\n",
       "0    Los Angeles                        11.09                        14.43\n",
       "1        Phoenix                         5.15                         7.90\n",
       "2      San Diego                         8.62                        14.51\n",
       "3  San Francisco                        16.86                        28.73\n",
       "4        Seattle                        14.21                        23.28"
      ]
     },
     "execution_count": 6,
     "metadata": {},
     "output_type": "execute_result"
    }
   ],
   "source": [
    "#The table below display only the city and the arrival delay of each airline to the city rounded to 2 decimal spaces.\n",
    "percentages_of_delay = airline_arrival_info[['City','Alaska_Percentages_Of_Delay', 'AMWest_Percentages_Of_Delay']]\n",
    "percentages_of_delay.round(2)"
   ]
  },
  {
   "cell_type": "markdown",
   "metadata": {},
   "source": [
    "### To provide visualization, I imported matplotlib.pyplot module and plotted the dataset into a bar chart."
   ]
  },
  {
   "cell_type": "code",
   "execution_count": 7,
   "metadata": {},
   "outputs": [],
   "source": [
    "import matplotlib.pyplot"
   ]
  },
  {
   "cell_type": "code",
   "execution_count": 8,
   "metadata": {},
   "outputs": [
    {
     "data": {
      "text/plain": [
       "<matplotlib.axes._subplots.AxesSubplot at 0x24f9df127f0>"
      ]
     },
     "execution_count": 8,
     "metadata": {},
     "output_type": "execute_result"
    },
    {
     "data": {
      "image/png": "[encoded data removed]",
      "text/plain": [
       "<Figure size 432x288 with 1 Axes>"
      ]
     },
     "metadata": {
      "needs_background": "light"
     },
     "output_type": "display_data"
    }
   ],
   "source": [
    "percentages_of_delay.plot.bar()"
   ]
  },
  {
   "cell_type": "markdown",
   "metadata": {},
   "source": [
    "# Analysis\n",
    "## For my analysis based of the dataset provided in Project1, AMWest airlines seems to have more delay going to the 5 cities in comparing to Alaska airlines.  Therefore, if I were to select an airline for a trip to any of the 5 cities, I would select Alaska airline. "
   ]
  }
 ],
 "metadata": {
  "kernelspec": {
   "display_name": "Python 3",
   "language": "python",
   "name": "python3"
  },
  "language_info": {
   "codemirror_mode": {
    "name": "ipython",
    "version": 3
   },
   "file_extension": ".py",
   "mimetype": "text/x-python",
   "name": "python",
   "nbconvert_exporter": "python",
   "pygments_lexer": "ipython3",
   "version": "3.7.3"
  }
 },
 "nbformat": 4,
 "nbformat_minor": 2
}
